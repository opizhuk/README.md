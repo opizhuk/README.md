{
 "cells": [
  {
   "cell_type": "markdown",
   "id": "24ea202c-c3de-4a73-a616-8efdc531f9de",
   "metadata": {},
   "source": [
    "# Data Science Tools and Ecosystem"
   ]
  },
  {
   "cell_type": "markdown",
   "id": "5705b9a9-24f7-4ee5-9cde-45ace8ad2298",
   "metadata": {},
   "source": [
    "In this notebook, Data Science Tools and Ecosystem are summarized."
   ]
  },
  {
   "cell_type": "markdown",
   "id": "1f166e0e-e26f-4cc3-9d9d-22aca7284792",
   "metadata": {},
   "source": [
    "**Objectives:**\n",
    "<ul>  \n",
    "<li>List popular languages for Data Science.</li>\n",
    "<li>List of the commonly used libraries used by Data Scientists.</li>\n",
    "<li>A few examples of evaluating arithmetic expressions in Python.</li>\n",
    "<ul>"
   ]
  },
  {
   "cell_type": "markdown",
   "id": "11ca9074-58a9-46b2-993d-a40bc9bd96c7",
   "metadata": {
    "tags": []
   },
   "source": [
    "Some of the popular languages that Data Scientists use are:\n",
    "    <ol>\n",
    "    <li>Python</li>\n",
    "    <li>R</li>\n",
    "    <li>SQL</li>\n",
    "    <li>Java</li>\n",
    "    <li>Julia</li>\n",
    "    <li>Scala</li>\n",
    "    <li>C/C++</li>\n",
    "    <li>JavaScript</li>\n",
    "    <ol>"
   ]
  },
  {
   "cell_type": "markdown",
   "id": "4e97e6ab-37f7-4add-991d-55957a0348cb",
   "metadata": {},
   "source": [
    "Some of the commonly used libraries used by Data Scientists include:\n",
    "<ol>\n",
    "    <li>TensorFlow</li>\n",
    "    <li>NumPy</li>\n",
    "    <li>SciPy</li>\n",
    "    <li>Pandas</li>\n",
    "    <li>Matplotlib</li>\n",
    "    <li>Keras</li>\n",
    "    <li>SciKit-Learn</li>\n",
    "    <li>PyTorch</li>\n",
    "    <ol>"
   ]
  },
  {
   "cell_type": "markdown",
   "id": "7a814623-9b70-4a10-8ed6-0d4618cfa071",
   "metadata": {},
   "source": [
    "|*Data Science Tools*|\n",
    "----------------------\n",
    "|Jupyter Notebooks|\n",
    "|Zeppelin Notebooks|\n",
    "|R Studio’s|"
   ]
  },
  {
   "cell_type": "markdown",
   "id": "e677a652-7d8a-474b-9e9f-3063b97f607d",
   "metadata": {},
   "source": [
    "### Below are a few examples of evaluating arithmetic expressions in Python"
   ]
  },
  {
   "cell_type": "code",
   "execution_count": 9,
   "id": "a514e155-7d94-4b93-b0b2-a5dc754ae5fc",
   "metadata": {
    "tags": []
   },
   "outputs": [
    {
     "data": {
      "text/plain": [
       "17"
      ]
     },
     "execution_count": 9,
     "metadata": {},
     "output_type": "execute_result"
    }
   ],
   "source": [
    "# This a simple arithmetic expression to mutiply then add integers\n",
    "(3*4)+5"
   ]
  },
  {
   "cell_type": "code",
   "execution_count": 10,
   "id": "ce2ca26d-0896-4134-9f37-423b0b5b25eb",
   "metadata": {
    "tags": []
   },
   "outputs": [
    {
     "data": {
      "text/plain": [
       "3.3333333333333335"
      ]
     },
     "execution_count": 10,
     "metadata": {},
     "output_type": "execute_result"
    }
   ],
   "source": [
    "# This will convert 200 minutes to hours by diving by 60\n",
    "200 / 60"
   ]
  },
  {
   "cell_type": "markdown",
   "id": "546fb6db-824b-4650-aba5-86883c56d8be",
   "metadata": {},
   "source": [
    "## Author"
   ]
  },
  {
   "cell_type": "markdown",
   "id": "abc5e7ca-2c95-407d-80ff-836519be5094",
   "metadata": {
    "tags": []
   },
   "source": [
    "Olha Pizhuk"
   ]
  }
 ],
 "metadata": {
  "kernelspec": {
   "display_name": "Python",
   "language": "python",
   "name": "conda-env-python-py"
  },
  "language_info": {
   "codemirror_mode": {
    "name": "ipython",
    "version": 3
   },
   "file_extension": ".py",
   "mimetype": "text/x-python",
   "name": "python",
   "nbconvert_exporter": "python",
   "pygments_lexer": "ipython3",
   "version": "3.7.12"
  }
 },
 "nbformat": 4,
 "nbformat_minor": 5
}
